{
 "cells": [
  {
   "cell_type": "code",
   "execution_count": 1,
   "metadata": {},
   "outputs": [
    {
     "ename": "ModuleNotFoundError",
     "evalue": "No module named 'pandas'",
     "output_type": "error",
     "traceback": [
      "\u001b[0;31m---------------------------------------------------------------------------\u001b[0m",
      "\u001b[0;31mModuleNotFoundError\u001b[0m                       Traceback (most recent call last)",
      "\u001b[0;32m<ipython-input-1-31afa39323b3>\u001b[0m in \u001b[0;36m<module>\u001b[0;34m\u001b[0m\n\u001b[0;32m----> 1\u001b[0;31m \u001b[0;32mimport\u001b[0m \u001b[0mpandas\u001b[0m \u001b[0;32mas\u001b[0m \u001b[0mpd\u001b[0m\u001b[0;34m\u001b[0m\u001b[0;34m\u001b[0m\u001b[0m\n\u001b[0m\u001b[1;32m      2\u001b[0m \u001b[0;32mfrom\u001b[0m \u001b[0mpandas\u001b[0m \u001b[0;32mimport\u001b[0m \u001b[0mExcelWriter\u001b[0m\u001b[0;34m\u001b[0m\u001b[0;34m\u001b[0m\u001b[0m\n\u001b[1;32m      3\u001b[0m \u001b[0;32mfrom\u001b[0m \u001b[0mpandas\u001b[0m \u001b[0;32mimport\u001b[0m \u001b[0mExcelFile\u001b[0m\u001b[0;34m\u001b[0m\u001b[0;34m\u001b[0m\u001b[0m\n\u001b[1;32m      4\u001b[0m \u001b[0;32mimport\u001b[0m \u001b[0mnumpy\u001b[0m \u001b[0;32mas\u001b[0m \u001b[0mnp\u001b[0m\u001b[0;34m\u001b[0m\u001b[0;34m\u001b[0m\u001b[0m\n\u001b[1;32m      5\u001b[0m \u001b[0;32mimport\u001b[0m \u001b[0mre\u001b[0m\u001b[0;34m\u001b[0m\u001b[0;34m\u001b[0m\u001b[0m\n",
      "\u001b[0;31mModuleNotFoundError\u001b[0m: No module named 'pandas'"
     ]
    }
   ],
   "source": [
    "import pandas as pd\n",
    "from pandas import ExcelWriter\n",
    "from pandas import ExcelFile\n",
    "import numpy as np\n",
    "import re\n",
    "\n",
    "# Make the graphs a bit prettier, and bigger\n",
    "#pd.set_option('display.mpl_style', 'default') #***mple_style is deprecated ***\n",
    "#figsize(15, 5)\n",
    "\n",
    "#To loop over rows in the file\n",
    "#NOTE: for index, row in df.iterrows():\n",
    "# To read an excel sheet use: \n",
    "#df = pandas.read_excel(open('your_xls_xlsx_filename','rb'), sheet_name='Sheet 1')\n",
    "na_values = ['NO CLUE', 'N/A', '0']\n",
    "\n",
    "df = pd.read_csv('completed.csv', encoding='cp1252', na_values=na_values,usecols = ['Contents', 'Received','From'])\n",
    "\n",
    "\n",
    "df['FileNums'] = df['Contents'].str.extract('([1-2][6-8]-[1-9]\\d+(?!-0)\\d+)',expand=True) #Need to expand the regex on this one.\n",
    "\n",
    "df['FileNums']\n",
    "\n",
    "\n",
    "\n",
    "df['FileSize'] = df['Contents'].str.extract('(\\d+,\\d+,\\d+)',expand=True)\n",
    "\n",
    "df['FileSize']\n",
    "\n",
    "df['TrackID'] = df['Contents'].str.extract('(\\d\\d\\d\\d\\d\\d\\d\\d\\d)',expand=True)\n",
    "\n",
    "df['TrackID']\n",
    "\n",
    "\n",
    "\n",
    "\n",
    "\n",
    "df2 = df.drop('From', 1) #drop column 'Contents'\n",
    "\n",
    "#newdf = df2.set_index('Received').T #set recieved dates as index\n",
    "#newdf\n",
    "\n",
    "#Now write dataframe to excel \n",
    "\n",
    "\n",
    "\n",
    "#how to get a value count\n",
    "#complaints['Complaint Type'].value_counts()\n",
    "numtrackids = df['Contents'].str.extract('(\\d\\d\\d\\d\\d\\d\\d\\d\\d)',expand=True)\n",
    "filecount = (len(numtrackids))\n",
    "print(\"The file count is: \",filecount)\n",
    "\n",
    "writer = pd.ExcelWriter('Video_LOG1.xlsx')\n",
    "df2.to_excel(writer, 'Video_LOG')\n",
    "writer.save()\n",
    "\n",
    "\n",
    "\n",
    "df2\n"
   ]
  },
  {
   "cell_type": "code",
   "execution_count": null,
   "metadata": {},
   "outputs": [],
   "source": []
  },
  {
   "cell_type": "code",
   "execution_count": null,
   "metadata": {},
   "outputs": [],
   "source": []
  },
  {
   "cell_type": "code",
   "execution_count": null,
   "metadata": {},
   "outputs": [],
   "source": []
  }
 ],
 "metadata": {
  "kernelspec": {
   "display_name": "Python 3",
   "language": "python",
   "name": "python3"
  },
  "language_info": {
   "codemirror_mode": {
    "name": "ipython",
    "version": 3
   },
   "file_extension": ".py",
   "mimetype": "text/x-python",
   "name": "python",
   "nbconvert_exporter": "python",
   "pygments_lexer": "ipython3",
   "version": "3.8.2"
  }
 },
 "nbformat": 4,
 "nbformat_minor": 2
}
